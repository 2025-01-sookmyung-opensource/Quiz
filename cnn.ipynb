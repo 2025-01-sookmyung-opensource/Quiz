{
  "nbformat": 4,
  "nbformat_minor": 0,
  "metadata": {
    "colab": {
      "provenance": [],
      "gpuType": "T4",
      "authorship_tag": "ABX9TyO2xM7bl/esRHmokDWkkidk",
      "include_colab_link": true
    },
    "kernelspec": {
      "name": "python3",
      "display_name": "Python 3"
    },
    "language_info": {
      "name": "python"
    },
    "accelerator": "GPU"
  },
  "cells": [
    {
      "cell_type": "markdown",
      "metadata": {
        "id": "view-in-github",
        "colab_type": "text"
      },
      "source": [
        "<a href=\"https://colab.research.google.com/github/2025-01-sookmyung-opensource/Quiz/blob/main/cnn.ipynb\" target=\"_parent\"><img src=\"https://colab.research.google.com/assets/colab-badge.svg\" alt=\"Open In Colab\"/></a>"
      ]
    },
    {
      "cell_type": "code",
      "execution_count": null,
      "metadata": {
        "id": "xA2QLtMs2eMU"
      },
      "outputs": [],
      "source": [
        "# cnn 실습"
      ]
    },
    {
      "cell_type": "code",
      "source": [
        "from __future__ import print_function\n",
        "import keras\n",
        "from keras.models import Sequential\n",
        "from keras.layers import Dense, Dropout, Flatten\n",
        "from keras.layers import Conv2D, MaxPooling2D\n",
        "from keras import backend as K\n",
        "from keras.utils import to_categorical\n",
        "\n",
        "import numpy as np\n",
        "from PIL import Image\n",
        "import os\n",
        "from tqdm import tqdm\n",
        "from sklearn.model_selection import train_test_split"
      ],
      "metadata": {
        "collapsed": true,
        "id": "LoNsteJj8vB7"
      },
      "execution_count": null,
      "outputs": []
    },
    {
      "cell_type": "code",
      "source": [
        "# Colab에서 labels.txt 업로드\n",
        "from google.colab import files\n",
        "uploaded = files.upload()  # labels.txt 선택"
      ],
      "metadata": {
        "collapsed": true,
        "id": "BW5UWbBh9ClN"
      },
      "execution_count": null,
      "outputs": []
    },
    {
      "cell_type": "code",
      "source": [
        "# 이미지 폴더 업로드\n",
        "from google.colab import files\n",
        "import os\n",
        "\n",
        "# 여러 개의 이미지 파일 업로드\n",
        "uploaded = files.upload()  # Ctrl+A로 1.png~N.png 전체 선택\n",
        "\n",
        "# images 폴더 생성 및 이동\n",
        "os.makedirs(\"images\", exist_ok=True)\n",
        "\n",
        "for fname in uploaded.keys():\n",
        "    os.rename(fname, os.path.join(\"images\", fname))"
      ],
      "metadata": {
        "id": "kGenwoSPARRc"
      },
      "execution_count": null,
      "outputs": []
    },
    {
      "cell_type": "code",
      "source": [
        "from tqdm import tqdm\n",
        "from PIL import Image\n",
        "import numpy as np\n",
        "import os\n",
        "from keras.utils import to_categorical\n",
        "from keras import backend as K\n",
        "\n",
        "# 이미지 설정\n",
        "img_rows, img_cols = 28, 28\n",
        "num_classes = 10\n",
        "batch_size = 128\n",
        "epochs = 12\n",
        "\n",
        "# 라벨 파일 읽기\n",
        "with open(\"labels.txt\", \"r\") as f:\n",
        "    labels = [int(line.strip()) for line in f.readlines()]\n",
        "\n",
        "# 이미지와 라벨 매칭\n",
        "image_dir = \"images\"\n",
        "x_data = []\n",
        "y_data = []\n",
        "\n",
        "for i, label in tqdm(enumerate(labels), total=len(labels)):\n",
        "    img_path = os.path.join(image_dir, f\"{i+1}.png\")\n",
        "    if not os.path.exists(img_path):\n",
        "        print(f\"경고: {img_path} 파일이 없습니다. 건너뜁니다.\")\n",
        "        continue  # 파일 없으면 다음으로\n",
        "    img = Image.open(img_path).convert(\"L\").resize((img_rows, img_cols))  # 흑백 변환 및 크기 조정\n",
        "    img_array = np.array(img) / 255.0\n",
        "    x_data.append(img_array)\n",
        "    y_data.append(label)\n",
        "\n",
        "x_data = np.array(x_data)\n",
        "y_data = np.array(y_data)\n",
        "\n",
        "# 채널 차원 추가\n",
        "if K.image_data_format() == 'channels_first':\n",
        "    x_data = x_data.reshape(x_data.shape[0], 1, img_rows, img_cols)\n",
        "    input_shape = (1, img_rows, img_cols)\n",
        "else:\n",
        "    x_data = x_data.reshape(x_data.shape[0], img_rows, img_cols, 1)\n",
        "    input_shape = (img_rows, img_cols, 1)\n",
        "\n",
        "# 원-핫 인코딩\n",
        "y_data = to_categorical(y_data, num_classes)"
      ],
      "metadata": {
        "collapsed": true,
        "colab": {
          "base_uri": "https://localhost:8080/"
        },
        "id": "7XtEc6lS84R_",
        "outputId": "312c1334-d37b-4fae-aa7b-a4de94d120cb"
      },
      "execution_count": null,
      "outputs": [
        {
          "output_type": "stream",
          "name": "stderr",
          "text": [
            "100%|██████████| 10000/10000 [00:01<00:00, 7261.83it/s]\n"
          ]
        }
      ]
    },
    {
      "cell_type": "code",
      "source": [
        "# 학습/검증 분할\n",
        "x_train, x_test, y_train, y_test = train_test_split(\n",
        "    x_data, y_data, test_size=0.2, random_state=42\n",
        ")\n",
        "\n",
        "# CNN 모델 구성\n",
        "model = Sequential()\n",
        "model.add(Conv2D(32, kernel_size=(3, 3), activation='relu', input_shape=input_shape))\n",
        "model.add(Conv2D(64, (3, 3), activation='relu'))\n",
        "model.add(MaxPooling2D(pool_size=(2, 2)))\n",
        "model.add(Dropout(0.25))\n",
        "model.add(Flatten())\n",
        "model.add(Dense(128, activation='relu'))\n",
        "model.add(Dropout(0.5))\n",
        "model.add(Dense(num_classes, activation='softmax'))\n",
        "\n",
        "# 컴파일 및 학습\n",
        "model.compile(\n",
        "    loss=keras.losses.categorical_crossentropy,\n",
        "    optimizer=keras.optimizers.Adadelta(),\n",
        "    metrics=['accuracy']\n",
        ")\n",
        "\n",
        "model.fit(\n",
        "    x_train, y_train,\n",
        "    batch_size=batch_size,\n",
        "    epochs=epochs,\n",
        "    verbose=1,\n",
        "    validation_data=(x_test, y_test)\n",
        ")"
      ],
      "metadata": {
        "collapsed": true,
        "id": "ukR9qpil89kX"
      },
      "execution_count": null,
      "outputs": []
    },
    {
      "cell_type": "code",
      "source": [
        "print(f\"x_train shape: {x_train.shape}\")\n",
        "print(f\"y_train shape: {y_train.shape}\")\n",
        "print(f\"x_test shape: {x_test.shape}\")\n",
        "print(f\"y_test shape: {y_test.shape}\")\n",
        "\n",
        "print(\"y_train example:\", np.argmax(y_train[:10], axis=1))\n",
        "print(\"y_test example:\", np.argmax(y_test[:10], axis=1))\n",
        "print(\"x_train pixel range:\", x_train.min(), \"~\", x_train.max())"
      ],
      "metadata": {
        "id": "jTuLoBamD55b"
      },
      "execution_count": null,
      "outputs": []
    },
    {
      "cell_type": "code",
      "source": [
        "# 평가\n",
        "score = model.evaluate(x_test, y_test, verbose=0)\n",
        "print('Test loss:', score[0])\n",
        "print('Test accuracy:', score[1])"
      ],
      "metadata": {
        "collapsed": true,
        "id": "x1-NRHvL8_8-"
      },
      "execution_count": null,
      "outputs": []
    },
    {
      "cell_type": "code",
      "source": [
        "# 테스트 데이터 업로드\n",
        "uploaded = files.upload()\n",
        "\n",
        "# 업로드된 이미지 파일명\n",
        "test_img_path = \"1.png\"\n",
        "\n",
        "# 이미지 불러오기 및 전처리\n",
        "img = Image.open(test_img_path).convert(\"L\").resize((img_rows, img_cols))\n",
        "img_array = np.array(img) / 255.0\n",
        "\n",
        "if K.image_data_format() == 'channels_first':\n",
        "    img_array = img_array.reshape(1, 1, img_rows, img_cols)\n",
        "else:\n",
        "    img_array = img_array.reshape(1, img_rows, img_cols, 1)\n",
        "\n",
        "# 예측\n",
        "prediction = model.predict(img_array)\n",
        "predicted_class = np.argmax(prediction, axis=1)[0]\n",
        "\n",
        "print(f\"예측 결과: {predicted_class}\")"
      ],
      "metadata": {
        "id": "mcGGFXTPCO_t"
      },
      "execution_count": null,
      "outputs": []
    }
  ]
}